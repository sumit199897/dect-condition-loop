{
 "cells": [
  {
   "cell_type": "code",
   "execution_count": 1,
   "id": "d9583935-1252-482b-a41c-16db39bc3e21",
   "metadata": {},
   "outputs": [],
   "source": [
    "d={}"
   ]
  },
  {
   "cell_type": "code",
   "execution_count": 2,
   "id": "92c8161f-e523-406f-8ce9-5c474ac22cdf",
   "metadata": {},
   "outputs": [
    {
     "data": {
      "text/plain": [
       "dict"
      ]
     },
     "execution_count": 2,
     "metadata": {},
     "output_type": "execute_result"
    }
   ],
   "source": [
    "type(d)"
   ]
  },
  {
   "cell_type": "code",
   "execution_count": 3,
   "id": "17815052-fd2f-4cbe-b2e2-e8987807b455",
   "metadata": {},
   "outputs": [],
   "source": [
    "d1={'key' : \"sumit\"}"
   ]
  },
  {
   "cell_type": "code",
   "execution_count": 4,
   "id": "f0e9fbd1-c405-4658-80cc-b133058486f4",
   "metadata": {},
   "outputs": [
    {
     "data": {
      "text/plain": [
       "{'key': 'sumit'}"
      ]
     },
     "execution_count": 4,
     "metadata": {},
     "output_type": "execute_result"
    }
   ],
   "source": [
    "d1"
   ]
  },
  {
   "cell_type": "code",
   "execution_count": 6,
   "id": "115402ca-200d-4cda-910e-a95053a245e1",
   "metadata": {},
   "outputs": [],
   "source": [
    "d2={'name':'sumit', 'email':'sumitgoswami794@gmail.com', 'phone' : 910246878}"
   ]
  },
  {
   "cell_type": "code",
   "execution_count": 7,
   "id": "10084a48-3921-4e03-97cd-61afce3016f9",
   "metadata": {},
   "outputs": [
    {
     "data": {
      "text/plain": [
       "{'name': 'sumit', 'email': 'sumitgoswami794@gmail.com', 'phone': 910246878}"
      ]
     },
     "execution_count": 7,
     "metadata": {},
     "output_type": "execute_result"
    }
   ],
   "source": [
    "d2"
   ]
  },
  {
   "cell_type": "code",
   "execution_count": 11,
   "id": "417e57aa-f382-4a58-b6ba-7c4a1ff5ddbc",
   "metadata": {},
   "outputs": [],
   "source": [
    "d3={234 :'sumit','@wer' : 'kumar',True : 24234}"
   ]
  },
  {
   "cell_type": "code",
   "execution_count": 12,
   "id": "946d3fda-091c-42d6-9f50-01f5e3558b87",
   "metadata": {},
   "outputs": [
    {
     "data": {
      "text/plain": [
       "{234: 'sumit', '@wer': 'kumar', True: 24234}"
      ]
     },
     "execution_count": 12,
     "metadata": {},
     "output_type": "execute_result"
    }
   ],
   "source": [
    "d3"
   ]
  },
  {
   "cell_type": "code",
   "execution_count": 13,
   "id": "aea12fa1-4e19-496e-a28e-952243bea809",
   "metadata": {},
   "outputs": [
    {
     "data": {
      "text/plain": [
       "'sumit'"
      ]
     },
     "execution_count": 13,
     "metadata": {},
     "output_type": "execute_result"
    }
   ],
   "source": [
    "d3[234]"
   ]
  },
  {
   "cell_type": "code",
   "execution_count": 14,
   "id": "40bdad9a-a6c0-4587-a946-bf3a63b75959",
   "metadata": {},
   "outputs": [],
   "source": [
    "d4={'name': \"sumit\", \"mail_id\" : \"sumitgoswami794@gmail.com\", \"name\"  : 'Sumit Goswami'}"
   ]
  },
  {
   "cell_type": "code",
   "execution_count": 15,
   "id": "0818ec91-8393-4712-892a-b2d760be0b87",
   "metadata": {},
   "outputs": [
    {
     "data": {
      "text/plain": [
       "'Sumit Goswami'"
      ]
     },
     "execution_count": 15,
     "metadata": {},
     "output_type": "execute_result"
    }
   ],
   "source": [
    "d4['name']"
   ]
  },
  {
   "cell_type": "code",
   "execution_count": 17,
   "id": "81a7ec25-7a1b-4cea-a12c-a9189a227960",
   "metadata": {},
   "outputs": [],
   "source": [
    "d={\"compny\" : 'pwskill',\"course\" :['web dev' , \"data sciance\" ,\"java with dsa sys design\"]}"
   ]
  },
  {
   "cell_type": "code",
   "execution_count": 18,
   "id": "05a839ca-0ebb-40ce-a958-4658c7ede78c",
   "metadata": {},
   "outputs": [
    {
     "data": {
      "text/plain": [
       "{'compny': 'pwskill',\n",
       " 'course': ['web dev', 'data sciance', 'java with dsa sys design']}"
      ]
     },
     "execution_count": 18,
     "metadata": {},
     "output_type": "execute_result"
    }
   ],
   "source": [
    "d"
   ]
  },
  {
   "cell_type": "code",
   "execution_count": 19,
   "id": "b914bdc3-808f-489c-8d5f-7d023b712228",
   "metadata": {},
   "outputs": [
    {
     "data": {
      "text/plain": [
       "'web dev'"
      ]
     },
     "execution_count": 19,
     "metadata": {},
     "output_type": "execute_result"
    }
   ],
   "source": [
    "d['course'][0]"
   ]
  },
  {
   "cell_type": "code",
   "execution_count": 20,
   "id": "322e4928-5c1b-48f0-b48a-82f8543c38fc",
   "metadata": {},
   "outputs": [],
   "source": [
    "d6={\"number\":[2,24,3,12,32],\"assigment\":(1,2,3,4,5),\"lunch_date\" :{28,12,14},\"class_time\":{'web_dev':8,\"data science master\" : 8 , \"java with dsa and system design\":7}}"
   ]
  },
  {
   "cell_type": "code",
   "execution_count": 21,
   "id": "2cc591de-0416-4f8f-af51-ea0a00e63223",
   "metadata": {},
   "outputs": [
    {
     "data": {
      "text/plain": [
       "{'number': [2, 24, 3, 12, 32],\n",
       " 'assigment': (1, 2, 3, 4, 5),\n",
       " 'lunch_date': {12, 14, 28},\n",
       " 'class_time': {'web_dev': 8,\n",
       "  'data science master': 8,\n",
       "  'java with dsa and system design': 7}}"
      ]
     },
     "execution_count": 21,
     "metadata": {},
     "output_type": "execute_result"
    }
   ],
   "source": [
    "d6"
   ]
  },
  {
   "cell_type": "code",
   "execution_count": 26,
   "id": "e9d2914f-98bc-4b32-956e-3856e5840237",
   "metadata": {},
   "outputs": [
    {
     "data": {
      "text/plain": [
       "7"
      ]
     },
     "execution_count": 26,
     "metadata": {},
     "output_type": "execute_result"
    }
   ],
   "source": [
    "d6['class_time']['java with dsa and system design']"
   ]
  },
  {
   "cell_type": "code",
   "execution_count": 27,
   "id": "b6543999-c0d6-46dd-915a-c99748771254",
   "metadata": {},
   "outputs": [],
   "source": [
    "d6['mentor'] = [\"sudhanshu\",\"krish\",\"anurag\",\"hayder\"]"
   ]
  },
  {
   "cell_type": "code",
   "execution_count": 28,
   "id": "dbb8ee00-faf1-4e6b-b211-386ef130a969",
   "metadata": {},
   "outputs": [
    {
     "data": {
      "text/plain": [
       "{'number': [2, 24, 3, 12, 32],\n",
       " 'assigment': (1, 2, 3, 4, 5),\n",
       " 'lunch_date': {12, 14, 28},\n",
       " 'class_time': {'web_dev': 8,\n",
       "  'data science master': 8,\n",
       "  'java with dsa and system design': 7},\n",
       " 'mentor': ['sudhanshu', 'krish', 'anurag', 'hayder']}"
      ]
     },
     "execution_count": 28,
     "metadata": {},
     "output_type": "execute_result"
    }
   ],
   "source": [
    "d6"
   ]
  },
  {
   "cell_type": "code",
   "execution_count": 29,
   "id": "4b45af5e-884f-4bb2-abb2-eabc6f716a94",
   "metadata": {},
   "outputs": [],
   "source": [
    "d6['assigment']=(1,2,3,4,5,6,7,8,9)"
   ]
  },
  {
   "cell_type": "code",
   "execution_count": 30,
   "id": "72900639-41a7-4733-95c7-ef0d17c4bde7",
   "metadata": {},
   "outputs": [
    {
     "data": {
      "text/plain": [
       "{'number': [2, 24, 3, 12, 32],\n",
       " 'assigment': (1, 2, 3, 4, 5, 6, 7, 8, 9),\n",
       " 'lunch_date': {12, 14, 28},\n",
       " 'class_time': {'web_dev': 8,\n",
       "  'data science master': 8,\n",
       "  'java with dsa and system design': 7},\n",
       " 'mentor': ['sudhanshu', 'krish', 'anurag', 'hayder']}"
      ]
     },
     "execution_count": 30,
     "metadata": {},
     "output_type": "execute_result"
    }
   ],
   "source": [
    "d6"
   ]
  },
  {
   "cell_type": "code",
   "execution_count": 32,
   "id": "a15af1e7-e6bc-4833-8678-03b26601dfd0",
   "metadata": {},
   "outputs": [],
   "source": [
    "del d6['number']"
   ]
  },
  {
   "cell_type": "code",
   "execution_count": 33,
   "id": "c6df961a-00ed-468f-bb39-bd7a6e2eaa9c",
   "metadata": {},
   "outputs": [
    {
     "data": {
      "text/plain": [
       "{'assigment': (1, 2, 3, 4, 5, 6, 7, 8, 9),\n",
       " 'lunch_date': {12, 14, 28},\n",
       " 'class_time': {'web_dev': 8,\n",
       "  'data science master': 8,\n",
       "  'java with dsa and system design': 7},\n",
       " 'mentor': ['sudhanshu', 'krish', 'anurag', 'hayder']}"
      ]
     },
     "execution_count": 33,
     "metadata": {},
     "output_type": "execute_result"
    }
   ],
   "source": [
    "d6"
   ]
  },
  {
   "cell_type": "code",
   "execution_count": 34,
   "id": "171471ac-cb63-4b6d-b2e7-a3377158a89b",
   "metadata": {},
   "outputs": [
    {
     "data": {
      "text/plain": [
       "dict_keys(['assigment', 'lunch_date', 'class_time', 'mentor'])"
      ]
     },
     "execution_count": 34,
     "metadata": {},
     "output_type": "execute_result"
    }
   ],
   "source": [
    "d6.keys()"
   ]
  },
  {
   "cell_type": "code",
   "execution_count": 35,
   "id": "746b7a52-a569-418c-ac18-4dbfdd052282",
   "metadata": {},
   "outputs": [
    {
     "data": {
      "text/plain": [
       "['assigment', 'lunch_date', 'class_time', 'mentor']"
      ]
     },
     "execution_count": 35,
     "metadata": {},
     "output_type": "execute_result"
    }
   ],
   "source": [
    "list(d6.keys())"
   ]
  },
  {
   "cell_type": "code",
   "execution_count": 37,
   "id": "16e500a1-5b8b-4e33-963b-4f836020099e",
   "metadata": {},
   "outputs": [
    {
     "data": {
      "text/plain": [
       "[(1, 2, 3, 4, 5, 6, 7, 8, 9),\n",
       " {12, 14, 28},\n",
       " {'web_dev': 8,\n",
       "  'data science master': 8,\n",
       "  'java with dsa and system design': 7},\n",
       " ['sudhanshu', 'krish', 'anurag', 'hayder']]"
      ]
     },
     "execution_count": 37,
     "metadata": {},
     "output_type": "execute_result"
    }
   ],
   "source": [
    "list(d6.values())"
   ]
  },
  {
   "cell_type": "code",
   "execution_count": 38,
   "id": "04360730-e23a-4541-ba9f-5bc550724eee",
   "metadata": {},
   "outputs": [
    {
     "data": {
      "text/plain": [
       "[('assigment', (1, 2, 3, 4, 5, 6, 7, 8, 9)),\n",
       " ('lunch_date', {12, 14, 28}),\n",
       " ('class_time',\n",
       "  {'web_dev': 8,\n",
       "   'data science master': 8,\n",
       "   'java with dsa and system design': 7}),\n",
       " ('mentor', ['sudhanshu', 'krish', 'anurag', 'hayder'])]"
      ]
     },
     "execution_count": 38,
     "metadata": {},
     "output_type": "execute_result"
    }
   ],
   "source": [
    "list(d6.items())"
   ]
  },
  {
   "cell_type": "code",
   "execution_count": 41,
   "id": "19cd2759-a3dd-4750-b1b2-6ee6728b2ad6",
   "metadata": {},
   "outputs": [
    {
     "name": "stdin",
     "output_type": "stream",
     "text": [
      "enter your marks 45\n"
     ]
    },
    {
     "name": "stdout",
     "output_type": "stream",
     "text": [
      "you will be a part of A2 batch\n"
     ]
    }
   ],
   "source": [
    "marks = int(input('enter your marks'))\n",
    "if marks >=80 :\n",
    "    print(\"you will be a partb of A0 batch\")\n",
    "elif marks >= 60 and marks <80:\n",
    "    print(\"you will be a part of A1 batch \")\n",
    "elif marks >= 40 and marks < 60 :\n",
    "    print('you will be a part of A2 batch')\n",
    "else:\n",
    "    print(\"you will be a part of A3 batch\")"
   ]
  },
  {
   "cell_type": "code",
   "execution_count": 42,
   "id": "47b94305-f23c-402d-b8ed-b4ccef78e8eb",
   "metadata": {},
   "outputs": [],
   "source": [
    "l=[1,2,3,4,5,6,7,8,9]"
   ]
  },
  {
   "cell_type": "code",
   "execution_count": 46,
   "id": "79641845-7447-4c35-aefd-aaf075c02125",
   "metadata": {},
   "outputs": [
    {
     "name": "stdout",
     "output_type": "stream",
     "text": [
      "2\n",
      "3\n",
      "4\n",
      "5\n",
      "6\n",
      "7\n",
      "8\n",
      "9\n",
      "10\n"
     ]
    },
    {
     "data": {
      "text/plain": [
       "[2, 3, 4, 5, 6, 7, 8, 9, 10]"
      ]
     },
     "execution_count": 46,
     "metadata": {},
     "output_type": "execute_result"
    }
   ],
   "source": [
    "l1=[]\n",
    "for i in l :\n",
    "    print(i+1)\n",
    "    l1.append(i+1)\n",
    "l1"
   ]
  },
  {
   "cell_type": "code",
   "execution_count": 47,
   "id": "10a2a13e-1d1c-498e-b115-92317d3c3f64",
   "metadata": {},
   "outputs": [],
   "source": [
    " l=['sumit','sandhya' , 'vansh' , 'sid']"
   ]
  },
  {
   "cell_type": "code",
   "execution_count": 50,
   "id": "42d6d3ac-1e33-4d33-b4a4-78e2ff1d54f5",
   "metadata": {},
   "outputs": [
    {
     "name": "stdout",
     "output_type": "stream",
     "text": [
      "sumit\n",
      "sandhya\n",
      "vansh\n",
      "sid\n"
     ]
    },
    {
     "data": {
      "text/plain": [
       "['SUMIT', 'SANDHYA', 'VANSH', 'SID']"
      ]
     },
     "execution_count": 50,
     "metadata": {},
     "output_type": "execute_result"
    }
   ],
   "source": [
    "l1=[]\n",
    "for i in l:\n",
    "    print(i)\n",
    "    l1.append(i.upper())\n",
    "l1"
   ]
  },
  {
   "cell_type": "code",
   "execution_count": 49,
   "id": "df162ac8-0fb7-4641-aa74-333038abd6ae",
   "metadata": {},
   "outputs": [
    {
     "data": {
      "text/plain": [
       "['SUMIT', 'SANDHYA', 'VANSH', 'SID']"
      ]
     },
     "execution_count": 49,
     "metadata": {},
     "output_type": "execute_result"
    }
   ],
   "source": [
    "l1"
   ]
  },
  {
   "cell_type": "code",
   "execution_count": 52,
   "id": "f969fb70-f166-4f09-8ab6-ec0ec2d37f86",
   "metadata": {},
   "outputs": [],
   "source": [
    "l=[1,2,3,4,5,'sumit',\"goswami\",324,32.45,'abc']"
   ]
  },
  {
   "cell_type": "code",
   "execution_count": 56,
   "id": "2b303e22-9317-40b8-869c-f6e00ad35bb5",
   "metadata": {},
   "outputs": [],
   "source": [
    "l1_num=[]\n",
    "l2_str=[]\n",
    "for i in l : \n",
    "    if type(i) ==int or type(i) == float :\n",
    "        l1_num.append(i)\n",
    "    else :\n",
    "        l2_str.append(i)"
   ]
  },
  {
   "cell_type": "code",
   "execution_count": 57,
   "id": "05291d97-2a0b-41ea-8fd3-c3f26247801d",
   "metadata": {},
   "outputs": [
    {
     "data": {
      "text/plain": [
       "[1, 2, 3, 4, 5, 324, 32.45]"
      ]
     },
     "execution_count": 57,
     "metadata": {},
     "output_type": "execute_result"
    }
   ],
   "source": [
    "l1_num"
   ]
  },
  {
   "cell_type": "code",
   "execution_count": 58,
   "id": "dfed140e-03ce-4ae2-9270-c359b255ffb1",
   "metadata": {},
   "outputs": [
    {
     "data": {
      "text/plain": [
       "['sumit', 'goswami', 'abc']"
      ]
     },
     "execution_count": 58,
     "metadata": {},
     "output_type": "execute_result"
    }
   ],
   "source": [
    "l2_str"
   ]
  },
  {
   "cell_type": "code",
   "execution_count": null,
   "id": "b87a3ab0-5f2d-42d0-8330-0c4257819b2d",
   "metadata": {},
   "outputs": [],
   "source": []
  }
 ],
 "metadata": {
  "kernelspec": {
   "display_name": "Python 3 (ipykernel)",
   "language": "python",
   "name": "python3"
  },
  "language_info": {
   "codemirror_mode": {
    "name": "ipython",
    "version": 3
   },
   "file_extension": ".py",
   "mimetype": "text/x-python",
   "name": "python",
   "nbconvert_exporter": "python",
   "pygments_lexer": "ipython3",
   "version": "3.10.8"
  }
 },
 "nbformat": 4,
 "nbformat_minor": 5
}
